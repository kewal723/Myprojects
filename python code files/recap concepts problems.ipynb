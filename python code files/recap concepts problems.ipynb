{
 "cells": [
  {
   "cell_type": "code",
   "execution_count": null,
   "id": "4cd50e73",
   "metadata": {},
   "outputs": [],
   "source": [
    "print(\"hello jhon!\")"
   ]
  },
  {
   "cell_type": "markdown",
   "id": "2efc6add",
   "metadata": {},
   "source": [
    "Basic Arithmetic Operations"
   ]
  },
  {
   "cell_type": "code",
   "execution_count": 5,
   "id": "4ecb986d",
   "metadata": {},
   "outputs": [],
   "source": [
    "def func():\n",
    "    num=int(input(\"enter the number\"))\n",
    "    num=int(input(\"enter the number\"))\n",
    "    print(\"Sum:\", num1 + num2)\n",
    "    "
   ]
  },
  {
   "cell_type": "code",
   "execution_count": 8,
   "id": "6dd69caf",
   "metadata": {},
   "outputs": [
    {
     "name": "stdout",
     "output_type": "stream",
     "text": [
      "difference -9\n"
     ]
    }
   ],
   "source": [
    "num1=23\n",
    "num2=32\n",
    "\n",
    "print(\"difference\",num1-num2)"
   ]
  },
  {
   "cell_type": "code",
   "execution_count": 11,
   "id": "e6752a54",
   "metadata": {},
   "outputs": [
    {
     "name": "stdout",
     "output_type": "stream",
     "text": [
      "sum 135\n",
      "difference 135\n",
      "product 85680\n"
     ]
    }
   ],
   "source": [
    "num1=34\n",
    "num2=45\n",
    "num3=56\n",
    "\n",
    "print(\"sum\",num1+num2+num3)\n",
    "print(\"difference\",num1+num2+num3)\n",
    "print(\"product\",num1*num2*num3)"
   ]
  },
  {
   "cell_type": "markdown",
   "id": "1c8846ef",
   "metadata": {},
   "source": [
    "String Concatenation"
   ]
  },
  {
   "cell_type": "code",
   "execution_count": 13,
   "id": "79b2cc84",
   "metadata": {},
   "outputs": [
    {
     "name": "stdout",
     "output_type": "stream",
     "text": [
      "hellokewalcl\n"
     ]
    }
   ],
   "source": [
    "str1=\"hello\"\n",
    "str2=\"kewal\"\n",
    "str3=\"cl\"\n",
    "\n",
    "result=str1+str2+str3\n",
    "print(result)\n"
   ]
  },
  {
   "cell_type": "markdown",
   "id": "ef4dae39",
   "metadata": {},
   "source": [
    "List Creation and Manipulation"
   ]
  },
  {
   "cell_type": "code",
   "execution_count": 16,
   "id": "b4b81468",
   "metadata": {},
   "outputs": [
    {
     "name": "stdout",
     "output_type": "stream",
     "text": [
      "Original list ['cherry', 'mango', 'banana']\n",
      "original list ['cherry', 'mango', 'banana', 'dragon fruit']\n"
     ]
    }
   ],
   "source": [
    "#append means to add something\n",
    "fruits=[\"cherry\",\"mango\",\"banana\"]\n",
    "print(\"Original list\", fruits)\n",
    "fruits.append(\"dragon fruit\")\n",
    "print(\"original list\",fruits)"
   ]
  },
  {
   "cell_type": "code",
   "execution_count": 17,
   "id": "4e4b70a9",
   "metadata": {},
   "outputs": [
    {
     "name": "stdout",
     "output_type": "stream",
     "text": [
      "car types: ['mercedes', 'ferrai', 'audi', 'benz']\n"
     ]
    }
   ],
   "source": [
    "car=[\"mercedes\",\"ferrai\",\"audi\",\"benz\"]\n",
    "print(\"car types:\",car)"
   ]
  },
  {
   "cell_type": "code",
   "execution_count": 18,
   "id": "66ea6112",
   "metadata": {},
   "outputs": [
    {
     "name": "stdout",
     "output_type": "stream",
     "text": [
      "car types ['mercedes', 'ferrai', 'audi', 'benz', 'rollys rocles']\n"
     ]
    }
   ],
   "source": [
    "car.append(\"rollys rocles\")\n",
    "print(\"car types\",car)"
   ]
  },
  {
   "cell_type": "markdown",
   "id": "7dc4a982",
   "metadata": {},
   "source": [
    "Using Conditional Statements (if-else)"
   ]
  },
  {
   "cell_type": "code",
   "execution_count": 25,
   "id": "4e2444c8",
   "metadata": {},
   "outputs": [
    {
     "name": "stdout",
     "output_type": "stream",
     "text": [
      "adult\n"
     ]
    }
   ],
   "source": [
    "age=19\n",
    "if age<=20:\n",
    "    \n",
    "    print(\"adult\")\n",
    "\n",
    "else:\n",
    "    print(\"not adult\")"
   ]
  },
  {
   "cell_type": "markdown",
   "id": "66189a8d",
   "metadata": {},
   "source": [
    "For Loop with Range"
   ]
  },
  {
   "cell_type": "code",
   "execution_count": 31,
   "id": "48e79f7d",
   "metadata": {},
   "outputs": [
    {
     "name": "stdout",
     "output_type": "stream",
     "text": [
      "1\n",
      "2\n",
      "3\n",
      "4\n",
      "5\n",
      "6\n",
      "7\n",
      "8\n",
      "9\n"
     ]
    }
   ],
   "source": [
    "for i in range(1,10):\n",
    "    print(i)"
   ]
  },
  {
   "cell_type": "markdown",
   "id": "bf6eadc7",
   "metadata": {},
   "source": [
    "Functions and Function Calls"
   ]
  },
  {
   "cell_type": "code",
   "execution_count": 34,
   "id": "763a3476",
   "metadata": {},
   "outputs": [
    {
     "name": "stdout",
     "output_type": "stream",
     "text": [
      "Hello, Alice!\n"
     ]
    }
   ],
   "source": [
    "def hi(name):\n",
    "    return f\"Hello, {name}!\"\n",
    "print(hi(\"Alice\"))"
   ]
  },
  {
   "cell_type": "markdown",
   "id": "3cb2b116",
   "metadata": {},
   "source": [
    "This program defines a function greet that returns a greeting string. The function is then called with the argument \"Alice\"."
   ]
  },
  {
   "cell_type": "markdown",
   "id": "dc32660d",
   "metadata": {},
   "source": [
    "Dictionaries and Accessing Values"
   ]
  },
  {
   "cell_type": "code",
   "execution_count": 35,
   "id": "ea1b915a",
   "metadata": {},
   "outputs": [
    {
     "name": "stdout",
     "output_type": "stream",
     "text": [
      "Name: Alice\n",
      "Age: 30\n"
     ]
    }
   ],
   "source": [
    "person = {\"name\": \"Alice\", \"age\": 30}\n",
    "print(\"Name:\", person[\"name\"])\n",
    "print(\"Age:\", person[\"age\"])\n"
   ]
  },
  {
   "cell_type": "code",
   "execution_count": null,
   "id": "f7fd7a01",
   "metadata": {},
   "outputs": [],
   "source": [
    "car={\"name\":\"brand\",}"
   ]
  }
 ],
 "metadata": {
  "kernelspec": {
   "display_name": "Python 3 (ipykernel)",
   "language": "python",
   "name": "python3"
  },
  "language_info": {
   "codemirror_mode": {
    "name": "ipython",
    "version": 3
   },
   "file_extension": ".py",
   "mimetype": "text/x-python",
   "name": "python",
   "nbconvert_exporter": "python",
   "pygments_lexer": "ipython3",
   "version": "3.10.9"
  }
 },
 "nbformat": 4,
 "nbformat_minor": 5
}
