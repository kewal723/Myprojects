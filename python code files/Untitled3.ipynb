{
 "cells": [
  {
   "cell_type": "code",
   "execution_count": 1,
   "id": "0f3a0527",
   "metadata": {},
   "outputs": [
    {
     "name": "stdout",
     "output_type": "stream",
     "text": [
      "9* 1 = 9\n",
      "9* 2 = 18\n",
      "9* 3 = 27\n",
      "9* 4 = 36\n",
      "9* 5 = 45\n",
      "9* 6 = 54\n",
      "9* 7 = 63\n",
      "9* 8 = 72\n",
      "9* 9 = 81\n",
      "9* 10 = 90\n"
     ]
    }
   ],
   "source": [
    "#1\n",
    "for a in range(1,11):\n",
    "    print(\"9*\",a,\"=\",9*a)"
   ]
  },
  {
   "cell_type": "code",
   "execution_count": 2,
   "id": "96566142",
   "metadata": {},
   "outputs": [
    {
     "name": "stdout",
     "output_type": "stream",
     "text": [
      "14\n",
      "10\n"
     ]
    }
   ],
   "source": [
    "#2 \n",
    "a = 10\n",
    "b = 14\n",
    "c = 12\n",
    "print(max(a, b, c))\n",
    "print(min(a,b,c))"
   ]
  },
  {
   "cell_type": "code",
   "execution_count": 3,
   "id": "d0723332",
   "metadata": {},
   "outputs": [
    {
     "ename": "IndentationError",
     "evalue": "unexpected indent (461954154.py, line 8)",
     "output_type": "error",
     "traceback": [
      "\u001b[1;36m  Cell \u001b[1;32mIn[3], line 8\u001b[1;36m\u001b[0m\n\u001b[1;33m    hasnoduplicates = [1,2,3,4,5,2,7,8,9]\u001b[0m\n\u001b[1;37m    ^\u001b[0m\n\u001b[1;31mIndentationError\u001b[0m\u001b[1;31m:\u001b[0m unexpected indent\n"
     ]
    }
   ],
   "source": [
    "#3\n",
    "def hasNoDuplicates ( lst ):\n",
    "    return len( lst ) == len( set( lst ) )\n",
    "\n",
    "    hasnoduplicatates =[1, 2, 3, 4, 5, 2, 7, 8, 9]\n",
    "print(True)\n",
    "\n",
    "   hasnoduplicates = [1,2,3,4,5,2,7,8,9]\n",
    "print(False)"
   ]
  },
  {
   "cell_type": "code",
   "execution_count": 4,
   "id": "cdefe30e",
   "metadata": {},
   "outputs": [
    {
     "name": "stdout",
     "output_type": "stream",
     "text": [
      "[44, 18, 86, 7, 50, 37, 77, 35, 33, 39]\n"
     ]
    }
   ],
   "source": [
    "#6\n",
    "import random\n",
    "randomlist=[]\n",
    "n = 10\n",
    "for item  in range(n):\n",
    "    imp = random.randint(1,100)\n",
    "    \n",
    "    if imp  not  in randomlist:\n",
    "        randomlist.append(imp)\n",
    "print(randomlist)\n",
    "\n",
    "maximum = (max(randomlist))\n",
    "minimum = (min(randomlist))\n"
   ]
  },
  {
   "cell_type": "code",
   "execution_count": 5,
   "id": "01bf41e6",
   "metadata": {},
   "outputs": [
    {
     "data": {
      "text/plain": [
       "86"
      ]
     },
     "execution_count": 5,
     "metadata": {},
     "output_type": "execute_result"
    }
   ],
   "source": [
    "maximum"
   ]
  },
  {
   "cell_type": "code",
   "execution_count": 6,
   "id": "9665dc74",
   "metadata": {},
   "outputs": [
    {
     "data": {
      "text/plain": [
       "7"
      ]
     },
     "execution_count": 6,
     "metadata": {},
     "output_type": "execute_result"
    }
   ],
   "source": [
    "minimum"
   ]
  },
  {
   "cell_type": "code",
   "execution_count": 7,
   "id": "373dae05",
   "metadata": {},
   "outputs": [],
   "source": [
    "#7\n",
    "def myfunc(*args):\n",
    "    \n",
    "    for i in args:\n",
    "        print(i)\n",
    "    for number in range(1,13):\n",
    "        print(i,'x',number, '=', i*number)"
   ]
  },
  {
   "cell_type": "code",
   "execution_count": 8,
   "id": "9e9c626e",
   "metadata": {},
   "outputs": [
    {
     "name": "stdout",
     "output_type": "stream",
     "text": [
      "8\n",
      "8 x 1 = 8\n",
      "8 x 2 = 16\n",
      "8 x 3 = 24\n",
      "8 x 4 = 32\n",
      "8 x 5 = 40\n",
      "8 x 6 = 48\n",
      "8 x 7 = 56\n",
      "8 x 8 = 64\n",
      "8 x 9 = 72\n",
      "8 x 10 = 80\n",
      "8 x 11 = 88\n",
      "8 x 12 = 96\n"
     ]
    }
   ],
   "source": [
    "myfunc(8)"
   ]
  },
  {
   "cell_type": "code",
   "execution_count": null,
   "id": "3126f67b",
   "metadata": {},
   "outputs": [],
   "source": []
  }
 ],
 "metadata": {
  "kernelspec": {
   "display_name": "Python 3 (ipykernel)",
   "language": "python",
   "name": "python3"
  },
  "language_info": {
   "codemirror_mode": {
    "name": "ipython",
    "version": 3
   },
   "file_extension": ".py",
   "mimetype": "text/x-python",
   "name": "python",
   "nbconvert_exporter": "python",
   "pygments_lexer": "ipython3",
   "version": "3.10.9"
  }
 },
 "nbformat": 4,
 "nbformat_minor": 5
}
