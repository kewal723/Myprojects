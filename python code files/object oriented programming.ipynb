{
 "cells": [
  {
   "cell_type": "code",
   "execution_count": 1,
   "id": "ba5c7a2c",
   "metadata": {},
   "outputs": [],
   "source": [
    "class Car():\n",
    "    def __init__(self,color,model,make):\n",
    "        self.color = color\n",
    "        self.model = model\n",
    "        self.make = make\n",
    "    def accelerate(self):\n",
    "        print('The car is accelerating')\n",
    "    def brake(self):\n",
    "        print('The car is braking')"
   ]
  },
  {
   "cell_type": "code",
   "execution_count": 1,
   "id": "76aa2642",
   "metadata": {},
   "outputs": [],
   "source": [
    "class juice():\n",
    "    def __int__(self,falvour,taste):\n",
    "        self.falvour = falvour\n",
    "        self.taste = taste \n",
    "    def mix(self):\n",
    "        print('the juice is mixing')\n",
    "    def readt(self):\n",
    "        print('the juice is falouring')"
   ]
  },
  {
   "cell_type": "code",
   "execution_count": null,
   "id": "359bb337",
   "metadata": {},
   "outputs": [],
   "source": [
    "my_juice ="
   ]
  },
  {
   "cell_type": "code",
   "execution_count": 2,
   "id": "e32a3e62",
   "metadata": {},
   "outputs": [],
   "source": [
    "my_car = Car('Red','Ferrari','488GTB')"
   ]
  },
  {
   "cell_type": "code",
   "execution_count": 4,
   "id": "976ebb83",
   "metadata": {},
   "outputs": [
    {
     "name": "stdout",
     "output_type": "stream",
     "text": [
      "Red\n"
     ]
    }
   ],
   "source": [
    "print(my_car.color)"
   ]
  },
  {
   "cell_type": "code",
   "execution_count": 5,
   "id": "d2ffc1cc",
   "metadata": {},
   "outputs": [
    {
     "data": {
      "text/plain": [
       "'488GTB'"
      ]
     },
     "execution_count": 5,
     "metadata": {},
     "output_type": "execute_result"
    }
   ],
   "source": [
    "my_car.make"
   ]
  },
  {
   "cell_type": "code",
   "execution_count": 7,
   "id": "60dc531c",
   "metadata": {},
   "outputs": [
    {
     "name": "stdout",
     "output_type": "stream",
     "text": [
      "The car is accelerating\n"
     ]
    }
   ],
   "source": [
    "my_car.accelerate()"
   ]
  },
  {
   "cell_type": "code",
   "execution_count": 8,
   "id": "f30f15b2",
   "metadata": {},
   "outputs": [
    {
     "name": "stdout",
     "output_type": "stream",
     "text": [
      "The car is braking\n"
     ]
    }
   ],
   "source": [
    "my_car.brake()"
   ]
  },
  {
   "cell_type": "code",
   "execution_count": 9,
   "id": "f6b2983b",
   "metadata": {},
   "outputs": [],
   "source": [
    "mylist = [1,2,3]"
   ]
  },
  {
   "cell_type": "code",
   "execution_count": 10,
   "id": "580d1bcd",
   "metadata": {},
   "outputs": [
    {
     "data": {
      "text/plain": [
       "[1, 2, 3]"
      ]
     },
     "execution_count": 10,
     "metadata": {},
     "output_type": "execute_result"
    }
   ],
   "source": [
    "mylist"
   ]
  },
  {
   "cell_type": "code",
   "execution_count": 11,
   "id": "cefd5aeb",
   "metadata": {},
   "outputs": [],
   "source": [
    "myset = [1,2,3,4,4,5,5]"
   ]
  },
  {
   "cell_type": "code",
   "execution_count": 12,
   "id": "cf20c6de",
   "metadata": {},
   "outputs": [],
   "source": [
    "myset = set()"
   ]
  },
  {
   "cell_type": "code",
   "execution_count": 13,
   "id": "cebc978c",
   "metadata": {},
   "outputs": [],
   "source": [
    "class Dog():\n",
    "    def __init__(self,breed):\n",
    "        self.breed = breed\n"
   ]
  },
  {
   "cell_type": "code",
   "execution_count": 14,
   "id": "36434507",
   "metadata": {},
   "outputs": [],
   "source": [
    "my_dog = Dog('Lab')"
   ]
  },
  {
   "cell_type": "code",
   "execution_count": 15,
   "id": "6bf4137f",
   "metadata": {},
   "outputs": [
    {
     "data": {
      "text/plain": [
       "__main__.Dog"
      ]
     },
     "execution_count": 15,
     "metadata": {},
     "output_type": "execute_result"
    }
   ],
   "source": [
    "type(my_dog)\n"
   ]
  },
  {
   "cell_type": "code",
   "execution_count": 16,
   "id": "9c2d6b4f",
   "metadata": {},
   "outputs": [
    {
     "data": {
      "text/plain": [
       "'Lab'"
      ]
     },
     "execution_count": 16,
     "metadata": {},
     "output_type": "execute_result"
    }
   ],
   "source": [
    "my_dog.breed\n"
   ]
  },
  {
   "cell_type": "code",
   "execution_count": 17,
   "id": "a23c261b",
   "metadata": {},
   "outputs": [],
   "source": [
    "class Dog():\n",
    " #Attributes\n",
    " #we take in the argument\n",
    " #assign it to self.attribute\n",
    " def __init__(self,mybreed):\n",
    "    self.breed = mybreed"
   ]
  },
  {
   "cell_type": "code",
   "execution_count": 18,
   "id": "4e9d8313",
   "metadata": {},
   "outputs": [],
   "source": [
    "my_dog = Dog('Huskie')"
   ]
  },
  {
   "cell_type": "code",
   "execution_count": 19,
   "id": "ac1fe8b0",
   "metadata": {},
   "outputs": [
    {
     "data": {
      "text/plain": [
       "'Huskie'"
      ]
     },
     "execution_count": 19,
     "metadata": {},
     "output_type": "execute_result"
    }
   ],
   "source": [
    "my_dog.breed\n"
   ]
  },
  {
   "cell_type": "code",
   "execution_count": 20,
   "id": "df98c306",
   "metadata": {},
   "outputs": [],
   "source": [
    "class Dog():\n",
    " #Attributes\n",
    " #we take in the argument\n",
    " #assign it to self.attribute\n",
    " def __init__(self,mybreed):\n",
    "    self.my_attribute = mybreed\n"
   ]
  },
  {
   "cell_type": "code",
   "execution_count": 21,
   "id": "7c1ff006",
   "metadata": {},
   "outputs": [],
   "source": [
    "\n",
    "my_dog = Dog('LAB')"
   ]
  },
  {
   "cell_type": "code",
   "execution_count": 25,
   "id": "434aff64",
   "metadata": {},
   "outputs": [],
   "source": [
    "class Dog():\n",
    " def __init__(self,breed,name,spots):\n",
    "     self.breed = breed\n",
    "     self.name = name\n",
    " #expecting a boolean\n",
    "     self.spots = spots\n"
   ]
  },
  {
   "cell_type": "code",
   "execution_count": 26,
   "id": "b67d6934",
   "metadata": {},
   "outputs": [],
   "source": [
    "my_dog = Dog(breed= 'Huskie',name = 'Frankie',spots = False)"
   ]
  },
  {
   "cell_type": "code",
   "execution_count": 31,
   "id": "79472648",
   "metadata": {},
   "outputs": [],
   "source": [
    "class Dog():\n",
    " #class object attributes\n",
    " #same for any instance of a class\n",
    "    species = 'mammal'\n",
    "    def __init__(self,breed,name,spots):\n",
    " #Atrributes\n",
    " #we take in the argument\n",
    " #assign it to the self.attribute_name\n",
    "        self.breed = breed\n",
    "        self.name = name\n",
    " #expecting booleans true/false\n",
    "        self.spots = spots"
   ]
  },
  {
   "cell_type": "code",
   "execution_count": 32,
   "id": "37d2d471",
   "metadata": {},
   "outputs": [],
   "source": [
    "my_dog = Dog(breed = 'Lab',name = 'Sam', spots = False)"
   ]
  },
  {
   "cell_type": "code",
   "execution_count": 33,
   "id": "2278f73d",
   "metadata": {},
   "outputs": [
    {
     "data": {
      "text/plain": [
       "__main__.Dog"
      ]
     },
     "execution_count": 33,
     "metadata": {},
     "output_type": "execute_result"
    }
   ],
   "source": [
    "type(my_dog)"
   ]
  },
  {
   "cell_type": "code",
   "execution_count": 34,
   "id": "810524f8",
   "metadata": {},
   "outputs": [
    {
     "data": {
      "text/plain": [
       "'Lab'"
      ]
     },
     "execution_count": 34,
     "metadata": {},
     "output_type": "execute_result"
    }
   ],
   "source": [
    "\n",
    "my_dog.breed"
   ]
  },
  {
   "cell_type": "code",
   "execution_count": 35,
   "id": "4d6f4f47",
   "metadata": {},
   "outputs": [
    {
     "data": {
      "text/plain": [
       "'Sam'"
      ]
     },
     "execution_count": 35,
     "metadata": {},
     "output_type": "execute_result"
    }
   ],
   "source": [
    "my_dog.name"
   ]
  },
  {
   "cell_type": "code",
   "execution_count": 36,
   "id": "ec219808",
   "metadata": {},
   "outputs": [
    {
     "data": {
      "text/plain": [
       "'mammal'"
      ]
     },
     "execution_count": 36,
     "metadata": {},
     "output_type": "execute_result"
    }
   ],
   "source": [
    "my_dog.species"
   ]
  },
  {
   "cell_type": "code",
   "execution_count": 10,
   "id": "91b19d8b",
   "metadata": {},
   "outputs": [],
   "source": [
    "class Dog():\n",
    "    #class object attributes\n",
    "    #same for any instance of a class\n",
    "    species = 'mammal'\n",
    "    def __init__(self,breed,name,spots):\n",
    "       #Atrributes\n",
    "       #we take in the argument\n",
    "       #assign it to the self.attribute_name\n",
    "       self.breed = breed\n",
    "       self.name = name\n",
    "       #expecting booleans true/false\n",
    "       self.spots = spots\n",
    "        #Operations --> Actions\n",
    "    def bark(self,number):\n",
    "        print('Woof! my name is {} and number is {}'.format(self.name,number))"
   ]
  },
  {
   "cell_type": "code",
   "execution_count": 11,
   "id": "e456eb70",
   "metadata": {},
   "outputs": [],
   "source": [
    "my_dog = Dog('Lab','Huskie',False)\n"
   ]
  },
  {
   "cell_type": "code",
   "execution_count": 12,
   "id": "214d6c36",
   "metadata": {},
   "outputs": [
    {
     "data": {
      "text/plain": [
       "__main__.Dog"
      ]
     },
     "execution_count": 12,
     "metadata": {},
     "output_type": "execute_result"
    }
   ],
   "source": [
    "type(my_dog)\n"
   ]
  },
  {
   "cell_type": "code",
   "execution_count": 13,
   "id": "500ace31",
   "metadata": {},
   "outputs": [
    {
     "name": "stdout",
     "output_type": "stream",
     "text": [
      "Woof! my name is Huskie and number is 10\n"
     ]
    }
   ],
   "source": [
    "my_dog.bark(10)"
   ]
  },
  {
   "cell_type": "code",
   "execution_count": 17,
   "id": "d3f2ec9e",
   "metadata": {},
   "outputs": [],
   "source": [
    "class Circle():\n",
    " #class object attribute\n",
    " pi = 3.14\n",
    " def __init__(self,radius=1):\n",
    "        self.radius = radius\n",
    " #method\n",
    " def get_circumference(self):\n",
    "        return 2*self.pi*self.radius"
   ]
  },
  {
   "cell_type": "code",
   "execution_count": 18,
   "id": "66ede8d8",
   "metadata": {},
   "outputs": [],
   "source": [
    "my_circle = Circle()\n"
   ]
  },
  {
   "cell_type": "code",
   "execution_count": 19,
   "id": "b3babf02",
   "metadata": {},
   "outputs": [
    {
     "data": {
      "text/plain": [
       "3.14"
      ]
     },
     "execution_count": 19,
     "metadata": {},
     "output_type": "execute_result"
    }
   ],
   "source": [
    "my_circle.pi"
   ]
  },
  {
   "cell_type": "code",
   "execution_count": 22,
   "id": "4b44fa75",
   "metadata": {},
   "outputs": [],
   "source": [
    "class Circle():\n",
    " #class object attribute\n",
    " pi = 3.14\n",
    " def __init__(self,radius=1):\n",
    "    self.radius = radius\n",
    "    self.area = Circle.pi*radius*radius\n",
    " #method\n",
    " def get_circumference(self):\n",
    "    return 2*Circle.pi*self.radius"
   ]
  },
  {
   "cell_type": "code",
   "execution_count": 23,
   "id": "02e60381",
   "metadata": {},
   "outputs": [],
   "source": [
    "my_circle = Circle(30)"
   ]
  },
  {
   "cell_type": "code",
   "execution_count": 24,
   "id": "a66809f0",
   "metadata": {},
   "outputs": [
    {
     "data": {
      "text/plain": [
       "188.4"
      ]
     },
     "execution_count": 24,
     "metadata": {},
     "output_type": "execute_result"
    }
   ],
   "source": [
    "my_circle.get_circumference()\n"
   ]
  },
  {
   "cell_type": "code",
   "execution_count": null,
   "id": "4b23872f",
   "metadata": {},
   "outputs": [],
   "source": []
  }
 ],
 "metadata": {
  "kernelspec": {
   "display_name": "Python 3 (ipykernel)",
   "language": "python",
   "name": "python3"
  },
  "language_info": {
   "codemirror_mode": {
    "name": "ipython",
    "version": 3
   },
   "file_extension": ".py",
   "mimetype": "text/x-python",
   "name": "python",
   "nbconvert_exporter": "python",
   "pygments_lexer": "ipython3",
   "version": "3.10.9"
  }
 },
 "nbformat": 4,
 "nbformat_minor": 5
}
