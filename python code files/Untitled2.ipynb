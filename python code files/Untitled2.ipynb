{
 "cells": [
  {
   "cell_type": "code",
   "execution_count": null,
   "id": "f5e2e260",
   "metadata": {},
   "outputs": [],
   "source": [
    " #1\n",
    "for a in range(1,11):\n",
    "    print(\"9*\",a,\"=\",9*a)\n",
    "    "
   ]
  },
  {
   "cell_type": "code",
   "execution_count": null,
   "id": "94675589",
   "metadata": {},
   "outputs": [],
   "source": [
    "#2 \n",
    "a = 10\n",
    "b = 14\n",
    "c = 12\n",
    "print(max(a, b, c))\n",
    "print(min(a,b,c))"
   ]
  },
  {
   "cell_type": "code",
   "execution_count": null,
   "id": "50c9d6fa",
   "metadata": {},
   "outputs": [],
   "source": [
    "#3\n",
    "def hasNoDuplicates ( lst ):\n",
    "    return len( lst ) == len( set( lst ) )\n",
    "\n",
    "    hasnoduplicatates =[1, 2, 3, 4, 5, 2, 7, 8, 9]\n",
    "print(True)\n",
    "\n",
    "   hasnoduplicates = [1,2,3,4,5,2,7,8,9]\n",
    "print(False)"
   ]
  },
  {
   "cell_type": "code",
   "execution_count": 4,
   "id": "798788fb",
   "metadata": {},
   "outputs": [],
   "source": [
    "#4"
   ]
  },
  {
   "cell_type": "code",
   "execution_count": null,
   "id": "d370ef90",
   "metadata": {},
   "outputs": [],
   "source": [
    "#5"
   ]
  },
  {
   "cell_type": "code",
   "execution_count": null,
   "id": "7afeeec8",
   "metadata": {},
   "outputs": [],
   "source": [
    "#6\n",
    "import random\n",
    "randomlist=[]\n",
    "n = 10\n",
    "for item  in range(n):\n",
    "    imp = random.randint(1,100)\n",
    "    \n",
    "    if imp  not  in randomlist:\n",
    "        randomlist.append(imp)\n",
    "print(randomlist)\n",
    "\n",
    "maximum = (max(randomlist))\n",
    "minimum = (min(randomlist))\n"
   ]
  },
  {
   "cell_type": "code",
   "execution_count": null,
   "id": "114ea974",
   "metadata": {},
   "outputs": [],
   "source": [
    "maximum"
   ]
  },
  {
   "cell_type": "code",
   "execution_count": null,
   "id": "c100c696",
   "metadata": {},
   "outputs": [],
   "source": [
    "minimum"
   ]
  },
  {
   "cell_type": "code",
   "execution_count": 13,
   "id": "f60eb94f",
   "metadata": {},
   "outputs": [],
   "source": [
    "#7\n",
    "def myfunc(*args):\n",
    "    \n",
    "    for i in args:\n",
    "        print(i)\n",
    "    for number in range(1,13):\n",
    "        print(i,'x',number, '=', i*number)"
   ]
  },
  {
   "cell_type": "code",
   "execution_count": 14,
   "id": "e1679c97",
   "metadata": {},
   "outputs": [
    {
     "name": "stdout",
     "output_type": "stream",
     "text": [
      "8\n",
      "8 x 1 = 8\n",
      "8 x 2 = 16\n",
      "8 x 3 = 24\n",
      "8 x 4 = 32\n",
      "8 x 5 = 40\n",
      "8 x 6 = 48\n",
      "8 x 7 = 56\n",
      "8 x 8 = 64\n",
      "8 x 9 = 72\n",
      "8 x 10 = 80\n",
      "8 x 11 = 88\n",
      "8 x 12 = 96\n"
     ]
    }
   ],
   "source": [
    "myfunc(8)"
   ]
  },
  {
   "cell_type": "code",
   "execution_count": null,
   "id": "d683615c",
   "metadata": {},
   "outputs": [],
   "source": []
  }
 ],
 "metadata": {
  "kernelspec": {
   "display_name": "Python 3 (ipykernel)",
   "language": "python",
   "name": "python3"
  },
  "language_info": {
   "codemirror_mode": {
    "name": "ipython",
    "version": 3
   },
   "file_extension": ".py",
   "mimetype": "text/x-python",
   "name": "python",
   "nbconvert_exporter": "python",
   "pygments_lexer": "ipython3",
   "version": "3.10.9"
  }
 },
 "nbformat": 4,
 "nbformat_minor": 5
}
