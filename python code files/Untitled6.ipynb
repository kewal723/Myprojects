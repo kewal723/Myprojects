{
 "cells": [
  {
   "cell_type": "code",
   "execution_count": 21,
   "id": "2650ea33",
   "metadata": {},
   "outputs": [
    {
     "ename": "SyntaxError",
     "evalue": "invalid syntax (1782164059.py, line 12)",
     "output_type": "error",
     "traceback": [
      "\u001b[1;36m  Cell \u001b[1;32mIn[21], line 12\u001b[1;36m\u001b[0m\n\u001b[1;33m    for j in range(len(matrix2[0]):\u001b[0m\n\u001b[1;37m                                  ^\u001b[0m\n\u001b[1;31mSyntaxError\u001b[0m\u001b[1;31m:\u001b[0m invalid syntax\n"
     ]
    }
   ],
   "source": [
    "import time\n",
    "import random\n",
    "\n",
    "def generate_matrix(size):\n",
    "    # Create a size x size matrix with random values\n",
    "    return [[random.random() for _ in range(size)] for _ in range(size)]\n",
    "\n",
    "def matrix_multiply(matrix1, matrix2):\n",
    "    # Perform matrix multiplication\n",
    "    result = [[0 for _ in range(len(matrix2[0]))] for _ in range(len(matrix1))]\n",
    "    for i in range(len(matrix1)):\n",
    "        for j in range(len(matrix2[0]):\n",
    "            for k in range(len(matrix2)):\n",
    "                result[i][j] += matrix1[i][k] * matrix2[k][j]\n",
    "    return result\n",
    "\n",
    "def benchmark_matrix_multiplication(size):\n",
    "    matrix1 = generate_matrix(size)\n",
    "    matrix2 = generate_matrix(size)\n",
    "    \n",
    "    start_time = time.time()\n",
    "    result = matrix_multiply(matrix1, matrix2)\n",
    "    end_time = time.time()\n",
    "    \n",
    "    elapsed_time = end_time - start_time\n",
    "    print(f\"Elapsed time for {size}x{size} matrix multiplication: {elapsed_time} seconds\")\n",
    "\n",
    "# Call the benchmark function with the desired size\n",
    "benchmark_matrix_multiplication(100)\n"
   ]
  },
  {
   "cell_type": "code",
   "execution_count": null,
   "id": "892d864c",
   "metadata": {},
   "outputs": [],
   "source": []
  }
 ],
 "metadata": {
  "kernelspec": {
   "display_name": "Python 3 (ipykernel)",
   "language": "python",
   "name": "python3"
  },
  "language_info": {
   "codemirror_mode": {
    "name": "ipython",
    "version": 3
   },
   "file_extension": ".py",
   "mimetype": "text/x-python",
   "name": "python",
   "nbconvert_exporter": "python",
   "pygments_lexer": "ipython3",
   "version": "3.10.9"
  }
 },
 "nbformat": 4,
 "nbformat_minor": 5
}
