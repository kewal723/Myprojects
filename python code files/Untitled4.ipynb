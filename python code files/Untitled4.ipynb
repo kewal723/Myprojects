{
 "cells": [
  {
   "cell_type": "code",
   "execution_count": 4,
   "id": "1067d62d",
   "metadata": {},
   "outputs": [
    {
     "ename": "SyntaxError",
     "evalue": "invalid syntax. Perhaps you forgot a comma? (4293219843.py, line 5)",
     "output_type": "error",
     "traceback": [
      "\u001b[1;36m  Cell \u001b[1;32mIn[4], line 5\u001b[1;36m\u001b[0m\n\u001b[1;33m    print('the factorial of'num,'is',result)\u001b[0m\n\u001b[1;37m          ^\u001b[0m\n\u001b[1;31mSyntaxError\u001b[0m\u001b[1;31m:\u001b[0m invalid syntax. Perhaps you forgot a comma?\n"
     ]
    }
   ],
   "source": [
    "num=int(input(\"enter a num to be checked \"))\n",
    "result=1\n",
    "for num in range(num,0,-1):\n",
    "    result=num*result\n",
    "print('the factorial of'num,'is',result)"
   ]
  },
  {
   "cell_type": "code",
   "execution_count": null,
   "id": "03cdb1a5",
   "metadata": {},
   "outputs": [],
   "source": [
    "year=int(input(\"enter the number if it is leap year or not \"))\n",
    "if (year%4==0)and (year%400==0):\n",
    "    print (\"{0} is leap year!\".format(year)) \n",
    "else:\n",
    "    print(\"{0}is not leap year!\".format(year))"
   ]
  },
  {
   "cell_type": "code",
   "execution_count": null,
   "id": "cdb63a49",
   "metadata": {},
   "outputs": [],
   "source": [
    "num=int(input(\"enter a num to be checked: \"))\n",
    "result=1\n",
    "for num in range(num,0,-1):\n",
    "    result=num*result\n",
    "print('the factorial of',num,'is',result)"
   ]
  },
  {
   "cell_type": "code",
   "execution_count": null,
   "id": "524cb42e",
   "metadata": {},
   "outputs": [],
   "source": []
  }
 ],
 "metadata": {
  "kernelspec": {
   "display_name": "Python 3 (ipykernel)",
   "language": "python",
   "name": "python3"
  },
  "language_info": {
   "codemirror_mode": {
    "name": "ipython",
    "version": 3
   },
   "file_extension": ".py",
   "mimetype": "text/x-python",
   "name": "python",
   "nbconvert_exporter": "python",
   "pygments_lexer": "ipython3",
   "version": "3.10.9"
  }
 },
 "nbformat": 4,
 "nbformat_minor": 5
}
