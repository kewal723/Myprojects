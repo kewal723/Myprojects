{
 "cells": [
  {
   "cell_type": "markdown",
   "id": "1d48a413",
   "metadata": {},
   "source": [
    "Task1"
   ]
  },
  {
   "cell_type": "code",
   "execution_count": 38,
   "id": "4770f259",
   "metadata": {},
   "outputs": [
    {
     "ename": "SyntaxError",
     "evalue": "unterminated string literal (detected at line 1) (2976139524.py, line 1)",
     "output_type": "error",
     "traceback": [
      "\u001b[1;36m  Cell \u001b[1;32mIn[38], line 1\u001b[1;36m\u001b[0m\n\u001b[1;33m    my_list=[s',d',a',e]:\u001b[0m\n\u001b[1;37m                    ^\u001b[0m\n\u001b[1;31mSyntaxError\u001b[0m\u001b[1;31m:\u001b[0m unterminated string literal (detected at line 1)\n"
     ]
    }
   ],
   "source": [
    "my_list=[s',d',a',e]:\n",
    "if in my_list:\n",
    "    return True\n",
    "else:\n",
    "     return False\n",
    "       print(my_list)"
   ]
  },
  {
   "cell_type": "markdown",
   "id": "b89947d5",
   "metadata": {},
   "source": [
    "Task2"
   ]
  },
  {
   "cell_type": "code",
   "execution_count": 5,
   "id": "da039887",
   "metadata": {},
   "outputs": [
    {
     "name": "stdout",
     "output_type": "stream",
     "text": [
      "5 x = 5\n",
      "5 x = 10\n",
      "5 x = 15\n",
      "5 x = 20\n",
      "5 x = 25\n",
      "5 x = 30\n",
      "5 x = 35\n",
      "5 x = 40\n",
      "5 x = 45\n",
      "5 x = 50\n"
     ]
    }
   ],
   "source": [
    "#multipication of the number 5\n",
    "num=5\n",
    "for i in range(1,11):\n",
    "    print(num,'x','=',i*num)"
   ]
  },
  {
   "cell_type": "markdown",
   "id": "a4570be3",
   "metadata": {},
   "source": [
    "Task3"
   ]
  },
  {
   "cell_type": "code",
   "execution_count": null,
   "id": "317c8cbb",
   "metadata": {},
   "outputs": [],
   "source": []
  },
  {
   "cell_type": "markdown",
   "id": "d2650eca",
   "metadata": {},
   "source": [
    "Task4"
   ]
  },
  {
   "cell_type": "code",
   "execution_count": 18,
   "id": "6f5530b8",
   "metadata": {},
   "outputs": [
    {
     "name": "stdout",
     "output_type": "stream",
     "text": [
      "addition 5\n",
      "subtraction 1\n",
      "multipication 6\n"
     ]
    }
   ],
   "source": [
    "\n",
    "num1=3\n",
    "num2=2\n",
    "addition=(num1+num2)\n",
    "subtraction=(num1-num2)\n",
    "multipication=(num1*num2)\n",
    "print(\"addition\",num1+num2)\n",
    "print(\"subtraction\",num1-num2)\n",
    "print(\"multipication\",num1*num2)\n",
    "\n",
    " \n",
    "\n",
    "\n",
    "\n",
    "\n",
    "\n",
    "\n"
   ]
  },
  {
   "cell_type": "code",
   "execution_count": null,
   "id": "5fa2c096",
   "metadata": {},
   "outputs": [],
   "source": []
  }
 ],
 "metadata": {
  "kernelspec": {
   "display_name": "Python 3 (ipykernel)",
   "language": "python",
   "name": "python3"
  },
  "language_info": {
   "codemirror_mode": {
    "name": "ipython",
    "version": 3
   },
   "file_extension": ".py",
   "mimetype": "text/x-python",
   "name": "python",
   "nbconvert_exporter": "python",
   "pygments_lexer": "ipython3",
   "version": "3.10.9"
  }
 },
 "nbformat": 4,
 "nbformat_minor": 5
}
