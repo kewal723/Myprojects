{
 "cells": [
  {
   "cell_type": "code",
   "execution_count": 1,
   "id": "56cf5709",
   "metadata": {},
   "outputs": [],
   "source": [
    "class Car():\n",
    "    def __init__(self,color,model,make):\n",
    "        self.color = color\n",
    "        self.model = model\n",
    "        self.make = make\n",
    "    def accelerate(self):\n",
    "        print('The car is accelerating')\n",
    "    def brake(self):\n",
    "        print('The car is braking')\n"
   ]
  },
  {
   "cell_type": "code",
   "execution_count": 2,
   "id": "fd3cbdbb",
   "metadata": {},
   "outputs": [],
   "source": [
    "my_car = Car('Red','Ferrari','488GTB')"
   ]
  },
  {
   "cell_type": "code",
   "execution_count": 3,
   "id": "566f955e",
   "metadata": {},
   "outputs": [
    {
     "name": "stdout",
     "output_type": "stream",
     "text": [
      "Red\n"
     ]
    }
   ],
   "source": [
    "print(my_car.color)"
   ]
  },
  {
   "cell_type": "code",
   "execution_count": 4,
   "id": "de102090",
   "metadata": {},
   "outputs": [
    {
     "name": "stdout",
     "output_type": "stream",
     "text": [
      "Ferrari\n"
     ]
    }
   ],
   "source": [
    "print(my_car.model)"
   ]
  },
  {
   "cell_type": "code",
   "execution_count": 5,
   "id": "6c182bc7",
   "metadata": {},
   "outputs": [
    {
     "name": "stdout",
     "output_type": "stream",
     "text": [
      "488GTB\n"
     ]
    }
   ],
   "source": [
    "print(my_car.make)"
   ]
  },
  {
   "cell_type": "code",
   "execution_count": 6,
   "id": "76812257",
   "metadata": {},
   "outputs": [
    {
     "name": "stdout",
     "output_type": "stream",
     "text": [
      "The car is accelerating\n"
     ]
    }
   ],
   "source": [
    "my_car.accelerate()"
   ]
  },
  {
   "cell_type": "code",
   "execution_count": 7,
   "id": "c6637c30",
   "metadata": {},
   "outputs": [
    {
     "name": "stdout",
     "output_type": "stream",
     "text": [
      "The car is braking\n"
     ]
    }
   ],
   "source": [
    "my_car.brake()"
   ]
  },
  {
   "cell_type": "code",
   "execution_count": 8,
   "id": "c0462e5c",
   "metadata": {},
   "outputs": [],
   "source": [
    "mylist=[1,2,3,4,5]"
   ]
  },
  {
   "cell_type": "code",
   "execution_count": 9,
   "id": "05750b8f",
   "metadata": {},
   "outputs": [
    {
     "data": {
      "text/plain": [
       "[1, 2, 3, 4, 5]"
      ]
     },
     "execution_count": 9,
     "metadata": {},
     "output_type": "execute_result"
    }
   ],
   "source": [
    "mylist"
   ]
  },
  {
   "cell_type": "code",
   "execution_count": 10,
   "id": "757fc317",
   "metadata": {},
   "outputs": [],
   "source": [
    "myset=[1,2,3,4,5,6]"
   ]
  },
  {
   "cell_type": "code",
   "execution_count": 11,
   "id": "76b9f3e0",
   "metadata": {},
   "outputs": [],
   "source": [
    "myset = set()"
   ]
  },
  {
   "cell_type": "code",
   "execution_count": 12,
   "id": "cfa24444",
   "metadata": {},
   "outputs": [],
   "source": [
    "class sample():\n",
    "    pass"
   ]
  },
  {
   "cell_type": "code",
   "execution_count": 13,
   "id": "551f8657",
   "metadata": {},
   "outputs": [],
   "source": [
    "my_sample = sample()"
   ]
  },
  {
   "cell_type": "code",
   "execution_count": 14,
   "id": "11c98301",
   "metadata": {},
   "outputs": [
    {
     "data": {
      "text/plain": [
       "__main__.sample"
      ]
     },
     "execution_count": 14,
     "metadata": {},
     "output_type": "execute_result"
    }
   ],
   "source": [
    "type(my_sample)"
   ]
  },
  {
   "cell_type": "code",
   "execution_count": 15,
   "id": "c7c94423",
   "metadata": {},
   "outputs": [
    {
     "ename": "NameError",
     "evalue": "name 'my_dog' is not defined",
     "output_type": "error",
     "traceback": [
      "\u001b[1;31m---------------------------------------------------------------------------\u001b[0m",
      "\u001b[1;31mNameError\u001b[0m                                 Traceback (most recent call last)",
      "Cell \u001b[1;32mIn[15], line 1\u001b[0m\n\u001b[1;32m----> 1\u001b[0m \u001b[43mmy_dog\u001b[49m\u001b[38;5;241m.\u001b[39mbreed\n",
      "\u001b[1;31mNameError\u001b[0m: name 'my_dog' is not defined"
     ]
    }
   ],
   "source": [
    "my_dog.breed"
   ]
  },
  {
   "cell_type": "code",
   "execution_count": null,
   "id": "d74f5029",
   "metadata": {},
   "outputs": [],
   "source": [
    "class Dog():\n",
    " #Attributes\n",
    " #we take in the argument\n",
    " #assign it to self.attribute\n",
    " def __init__(self,mybreed):\n",
    "    self.breed = mybreed"
   ]
  },
  {
   "cell_type": "code",
   "execution_count": null,
   "id": "7fa1d05f",
   "metadata": {},
   "outputs": [],
   "source": [
    "my_dog = Dog('LAB')"
   ]
  },
  {
   "cell_type": "code",
   "execution_count": null,
   "id": "4bd9b1d4",
   "metadata": {},
   "outputs": [],
   "source": [
    "class Dog():\n",
    "    def __init__(self,breed,name,spots):\n",
    "        self.breed = breed\n",
    "        self.name = name\n",
    "        #expecting a boolean\n",
    "        self.spots = spots"
   ]
  },
  {
   "cell_type": "code",
   "execution_count": null,
   "id": "910499d5",
   "metadata": {},
   "outputs": [],
   "source": [
    "my_dog = Dog(breed= 'Huskie',name = 'Frankie',spots = False)\n"
   ]
  },
  {
   "cell_type": "code",
   "execution_count": null,
   "id": "7b72522e",
   "metadata": {},
   "outputs": [],
   "source": [
    "my_dog.breed"
   ]
  },
  {
   "cell_type": "code",
   "execution_count": 16,
   "id": "85a82b31",
   "metadata": {},
   "outputs": [],
   "source": [
    "class Dog():\n",
    "    #class object Attributes\n",
    "    #some for any instance of a class\n",
    "    species = 'mammal'\n",
    "    def __int__(self,breed,name,spots):\n",
    "        #Attributes\n",
    "        #We take in the argument\n",
    "        #assign it to the self.attribute_name\n",
    "        self.breed = breed\n",
    "        self.name = name\n",
    "        #expecting booleans true/flase\n",
    "        self.spots = spots\n",
    "        \n",
    "    "
   ]
  },
  {
   "cell_type": "code",
   "execution_count": null,
   "id": "03201219",
   "metadata": {},
   "outputs": [],
   "source": [
    "my_dog = Dog()"
   ]
  }
 ],
 "metadata": {
  "kernelspec": {
   "display_name": "Python 3 (ipykernel)",
   "language": "python",
   "name": "python3"
  },
  "language_info": {
   "codemirror_mode": {
    "name": "ipython",
    "version": 3
   },
   "file_extension": ".py",
   "mimetype": "text/x-python",
   "name": "python",
   "nbconvert_exporter": "python",
   "pygments_lexer": "ipython3",
   "version": "3.10.9"
  }
 },
 "nbformat": 4,
 "nbformat_minor": 5
}
