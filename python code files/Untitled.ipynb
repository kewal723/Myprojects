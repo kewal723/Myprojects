{
 "cells": [
  {
   "cell_type": "code",
   "execution_count": 1,
   "id": "b2c0e536",
   "metadata": {},
   "outputs": [],
   "source": [
    "class Dog():\n",
    "    #class object Attributes\n",
    "    #some for any instance of a class\n",
    "    species = 'mammal'\n",
    "    def __int__(self,breed,name,spots):\n",
    "        #Attributes\n",
    "        #We take in the argument\n",
    "        #assign it to the self.attribute_name\n",
    "        self.breed = breed\n",
    "        self.name = name\n",
    "        #expecting booleans true/flase\n",
    "        self.spots = spots"
   ]
  },
  {
   "cell_type": "code",
   "execution_count": null,
   "id": "c19b8a60",
   "metadata": {},
   "outputs": [],
   "source": [
    "my_dog =Dog()"
   ]
  }
 ],
 "metadata": {
  "kernelspec": {
   "display_name": "Python 3 (ipykernel)",
   "language": "python",
   "name": "python3"
  },
  "language_info": {
   "codemirror_mode": {
    "name": "ipython",
    "version": 3
   },
   "file_extension": ".py",
   "mimetype": "text/x-python",
   "name": "python",
   "nbconvert_exporter": "python",
   "pygments_lexer": "ipython3",
   "version": "3.10.9"
  }
 },
 "nbformat": 4,
 "nbformat_minor": 5
}
