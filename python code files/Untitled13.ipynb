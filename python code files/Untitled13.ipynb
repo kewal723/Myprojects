{
 "cells": [
  {
   "cell_type": "markdown",
   "id": "b59a3dcb",
   "metadata": {},
   "source": [
    "The first step is to import the necessary Python modules. For this activity, we only need the `random` and `time` modules."
   ]
  },
  {
   "cell_type": "code",
   "execution_count": 1,
   "id": "327115b7",
   "metadata": {},
   "outputs": [],
   "source": [
    "import random\n",
    "import time"
   ]
  },
  {
   "cell_type": "markdown",
   "id": "92b13e9a",
   "metadata": {},
   "source": [
    "Next, define a function to generate a square matrix filled with random numbers. You'll use Python's built-in `random.random()` function, which generates a random float between 0.0 and 1.0."
   ]
  },
  {
   "cell_type": "code",
   "execution_count": null,
   "id": "be71591b",
   "metadata": {},
   "outputs": [],
   "source": [
    "def matrix_multiply(matrix1, matrix2):ize = len(matrix1)\n",
    "3.\t    result = [[0 for _ in range(size)] for _ in range(size)]\n",
    "4.\t \n",
    "5.\t    for i in range(size):\n",
    "6.\t        for j in range(size):\n",
    "7.\t            for k in range(size):\n",
    "8.\t                result[i][j] += matrix1[i][k] * matrix2[k][j]\n",
    "9.\t \n",
    "10.\t    return result\n"
   ]
  }
 ],
 "metadata": {
  "kernelspec": {
   "display_name": "Python 3 (ipykernel)",
   "language": "python",
   "name": "python3"
  },
  "language_info": {
   "codemirror_mode": {
    "name": "ipython",
    "version": 3
   },
   "file_extension": ".py",
   "mimetype": "text/x-python",
   "name": "python",
   "nbconvert_exporter": "python",
   "pygments_lexer": "ipython3",
   "version": "3.10.9"
  }
 },
 "nbformat": 4,
 "nbformat_minor": 5
}
