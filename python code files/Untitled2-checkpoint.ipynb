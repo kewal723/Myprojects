{
 "cells": [
  {
   "cell_type": "code",
   "execution_count": null,
   "id": "f5e2e260",
   "metadata": {},
   "outputs": [],
   "source": [
    " #1\n",
    "num = int(input(\"Enter the number: \"))\n",
    "print(\"Multiplication Table of\", num)\n",
    "for i in range(1, 11):\n",
    "    print(num,\"X\",i,\"=\",num * i)\n",
    "    "
   ]
  },
  {
   "cell_type": "code",
   "execution_count": null,
   "id": "94675589",
   "metadata": {},
   "outputs": [],
   "source": [
    "#2 \n",
    "a = 10\n",
    "b = 14\n",
    "c = 12\n",
    "print(max(a, b, c))\n",
    "print(min(a,b,c))"
   ]
  },
  {
   "cell_type": "code",
   "execution_count": null,
   "id": "50c9d6fa",
   "metadata": {},
   "outputs": [],
   "source": [
    "#3\n",
    "def hasNoDuplicates ( lst ):\n",
    "    return len( lst ) == len( set( lst ) )\n",
    "\n",
    "   hasnoduplicatates =[1, 2, 3, 4, 5, 2, 7, 8, 9]\n",
    "print(True)\n",
    "\n",
    "   hasnoduplicates = [1,2,3,4,5,2,7,8,9]\n",
    "print(False)"
   ]
  },
  {
   "cell_type": "code",
   "execution_count": null,
   "id": "798788fb",
   "metadata": {},
   "outputs": [],
   "source": [
    "#4"
   ]
  },
  {
   "cell_type": "code",
   "execution_count": null,
   "id": "d370ef90",
   "metadata": {},
   "outputs": [],
   "source": [
    "#5"
   ]
  },
  {
   "cell_type": "code",
   "execution_count": null,
   "id": "7afeeec8",
   "metadata": {},
   "outputs": [],
   "source": [
    "#6\n",
    "import random\n",
    "randomlist=[]\n",
    "n = 10\n",
    "for item  in range(n):\n",
    "    imp = random.randint(1,100)\n",
    "    \n",
    "    if imp  not  in randomlist:\n",
    "        randomlist.append(imp)\n",
    "print(randomlist)\n",
    "\n",
    "maximum = (max(randomlist))\n",
    "minimum = (min(randomlist))\n"
   ]
  },
  {
   "cell_type": "code",
   "execution_count": null,
   "id": "114ea974",
   "metadata": {},
   "outputs": [],
   "source": [
    "maximum"
   ]
  },
  {
   "cell_type": "code",
   "execution_count": null,
   "id": "c100c696",
   "metadata": {},
   "outputs": [],
   "source": [
    "minimum"
   ]
  },
  {
   "cell_type": "code",
   "execution_count": null,
   "id": "f60eb94f",
   "metadata": {},
   "outputs": [],
   "source": [
    "#7\n",
    "def myfunc(*args):\n",
    "    for i in args:\n",
    "        print(i)\n",
    "    for number in range(1,13):\n",
    "        print(i,'x',number, '=', item*number)"
   ]
  },
  {
   "cell_type": "code",
   "execution_count": null,
   "id": "621d5d9e",
   "metadata": {},
   "outputs": [],
   "source": [
    "myfunc(8)"
   ]
  },
  {
   "cell_type": "code",
   "execution_count": null,
   "id": "e1679c97",
   "metadata": {},
   "outputs": [],
   "source": []
  }
 ],
 "metadata": {
  "kernelspec": {
   "display_name": "Python 3 (ipykernel)",
   "language": "python",
   "name": "python3"
  },
  "language_info": {
   "codemirror_mode": {
    "name": "ipython",
    "version": 3
   },
   "file_extension": ".py",
   "mimetype": "text/x-python",
   "name": "python",
   "nbconvert_exporter": "python",
   "pygments_lexer": "ipython3",
   "version": "3.10.9"
  }
 },
 "nbformat": 4,
 "nbformat_minor": 5
}
