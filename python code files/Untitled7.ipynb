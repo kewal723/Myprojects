{
 "cells": [
  {
   "cell_type": "code",
   "execution_count": 9,
   "id": "fbcef614",
   "metadata": {},
   "outputs": [],
   "source": [
    "import time\n",
    "import random\n",
    "\n",
    "def generate_matrix(size):\n",
    "   \n",
    "    matrix = [[random.randint(1, 10) for _ in range(size)] for _ in range(size)]\n",
    "    return matrix\n",
    "\n",
    "def matrix_multiply(matrix1, matrix2):\n",
    "  \n",
    "    result = [[0 for _ in range(len(matrix2[0]))] for _ in range(len(matrix1))]\n",
    "    for i in range(len(matrix1)):\n",
    "        for j in range(len(matrix2[0])):\n",
    "            for k in range(len(matrix2)):\n",
    "                result[i][j] += matrix1[i][k] * matrix2[k][j]\n",
    "    return result\n",
    "\n",
    "def benchmark_matrix_multiplication(size):\n",
    "    matrix1 = generate_matrix(size)\n",
    "    matrix2 = generate_matrix(size)\n",
    "    \n",
    "    start_time = time.time()\n",
    "    result = matrix_multiply(matrix1, matrix2)\n",
    "    end_time = time.time()\n",
    "    \n",
    "    elapsed_time = end_time - start_time\n",
    "    print(f\"Elapsed time for {size}x{size} matrix multiplication: {elapsed_time} seconds\")\n",
    "\n",
    "\n"
   ]
  },
  {
   "cell_type": "code",
   "execution_count": 10,
   "id": "d297063a",
   "metadata": {},
   "outputs": [
    {
     "name": "stdout",
     "output_type": "stream",
     "text": [
      "Elapsed time for 50x50 matrix multiplication: 0.03402352333068848 seconds\n",
      "Elapsed time for 100x100 matrix multiplication: 0.2557547092437744 seconds\n",
      "Elapsed time for 150x150 matrix multiplication: 0.866661787033081 seconds\n"
     ]
    }
   ],
   "source": [
    "benchmark_matrix_multiplication(50)\n",
    "benchmark_matrix_multiplication(100)\n",
    "benchmark_matrix_multiplication(150)\n"
   ]
  },
  {
   "cell_type": "code",
   "execution_count": 7,
   "id": "446eb365",
   "metadata": {},
   "outputs": [],
   "source": []
  },
  {
   "cell_type": "code",
   "execution_count": null,
   "id": "26967bd9",
   "metadata": {},
   "outputs": [],
   "source": []
  }
 ],
 "metadata": {
  "kernelspec": {
   "display_name": "Python 3 (ipykernel)",
   "language": "python",
   "name": "python3"
  },
  "language_info": {
   "codemirror_mode": {
    "name": "ipython",
    "version": 3
   },
   "file_extension": ".py",
   "mimetype": "text/x-python",
   "name": "python",
   "nbconvert_exporter": "python",
   "pygments_lexer": "ipython3",
   "version": "3.10.9"
  }
 },
 "nbformat": 4,
 "nbformat_minor": 5
}
