{
 "cells": [
  {
   "cell_type": "code",
   "execution_count": 1,
   "id": "c8763808",
   "metadata": {},
   "outputs": [],
   "source": [
    "import random\n",
    "import time \n"
   ]
  },
  {
   "cell_type": "code",
   "execution_count": null,
   "id": "a730b2c7",
   "metadata": {},
   "outputs": [],
   "source": [
    "def generate_matrix(0.0,0.1):\n",
    "    return [[random.random(0.0,0.1) for _ in range(0.0,0.1)] for _ in range(0.0,0.1)]\n"
   ]
  }
 ],
 "metadata": {
  "kernelspec": {
   "display_name": "Python 3 (ipykernel)",
   "language": "python",
   "name": "python3"
  },
  "language_info": {
   "codemirror_mode": {
    "name": "ipython",
    "version": 3
   },
   "file_extension": ".py",
   "mimetype": "text/x-python",
   "name": "python",
   "nbconvert_exporter": "python",
   "pygments_lexer": "ipython3",
   "version": "3.10.9"
  }
 },
 "nbformat": 4,
 "nbformat_minor": 5
}
